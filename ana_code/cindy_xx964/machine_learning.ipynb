{
 "cells": [
  {
   "cell_type": "markdown",
   "metadata": {},
   "source": [
    "# Install pyspark"
   ]
  },
  {
   "cell_type": "code",
   "execution_count": 1420,
   "metadata": {},
   "outputs": [],
   "source": [
    "# !pip install pyspark"
   ]
  },
  {
   "cell_type": "markdown",
   "metadata": {},
   "source": [
    "# Import libraries"
   ]
  },
  {
   "cell_type": "code",
   "execution_count": 1421,
   "metadata": {},
   "outputs": [],
   "source": [
    "import pyspark\n",
    "from pyspark.sql import SparkSession\n",
    "from pyspark.sql.functions import col\n",
    "from pyspark.sql.types import IntegerType\n",
    "from pyspark.ml.feature import VectorAssembler\n",
    "from pyspark.ml.regression import LinearRegression\n",
    "from pyspark.ml.regression import DecisionTreeRegressor\n",
    "from pyspark.ml.regression import RandomForestRegressor\n",
    "from pyspark.ml.evaluation import RegressionEvaluator"
   ]
  },
  {
   "cell_type": "code",
   "execution_count": 1422,
   "metadata": {},
   "outputs": [
    {
     "data": {
      "text/html": [
       "\n",
       "            <div>\n",
       "                <p><b>SparkSession - in-memory</b></p>\n",
       "                \n",
       "        <div>\n",
       "            <p><b>SparkContext</b></p>\n",
       "\n",
       "            <p><a href=\"http://LAPTOP-OPR5EVU9:4040\">Spark UI</a></p>\n",
       "\n",
       "            <dl>\n",
       "              <dt>Version</dt>\n",
       "                <dd><code>v3.3.1</code></dd>\n",
       "              <dt>Master</dt>\n",
       "                <dd><code>local[*]</code></dd>\n",
       "              <dt>AppName</dt>\n",
       "                <dd><code>Steam</code></dd>\n",
       "            </dl>\n",
       "        </div>\n",
       "        \n",
       "            </div>\n",
       "        "
      ],
      "text/plain": [
       "<pyspark.sql.session.SparkSession at 0x2bd3bc7dca0>"
      ]
     },
     "execution_count": 1422,
     "metadata": {},
     "output_type": "execute_result"
    }
   ],
   "source": [
    "spark = SparkSession.builder.appName(\"Steam\").getOrCreate()\n",
    "spark"
   ]
  },
  {
   "cell_type": "markdown",
   "metadata": {},
   "source": [
    "### Define Shape() function for further use"
   ]
  },
  {
   "cell_type": "code",
   "execution_count": 1423,
   "metadata": {},
   "outputs": [],
   "source": [
    "def sparkShape(dataFrame):\n",
    "    return (dataFrame.count(), len(dataFrame.columns))\n",
    "pyspark.sql.dataframe.DataFrame.shape = sparkShape"
   ]
  },
  {
   "cell_type": "markdown",
   "metadata": {},
   "source": [
    "# Read files"
   ]
  },
  {
   "cell_type": "code",
   "execution_count": 1424,
   "metadata": {},
   "outputs": [],
   "source": [
    "df_leak = spark.read.csv(\"clean_leak.csv\", header=True, inferSchema=True).drop(\"Title\")\n",
    "df_time = spark.read.csv(\"leak_time_result.csv\", header = True, inferSchema=True)\n",
    "df_reviews = spark.read.csv(\"reviews_2018_all.csv\", header = True, inferSchema=True).drop(\"review_score_desc\")"
   ]
  },
  {
   "cell_type": "markdown",
   "metadata": {},
   "source": [
    "# Correct data types"
   ]
  },
  {
   "cell_type": "code",
   "execution_count": 1425,
   "metadata": {},
   "outputs": [],
   "source": [
    "df_leak = df_leak.withColumn(\"Players Estimate\", col(\"Players Estimate\").cast(IntegerType()))\n",
    "df_leak = df_leak.withColumnRenamed(\"Players Estimate\",\"Players\")\n",
    "df_time = df_time.withColumn(\"year\", col(\"year\").cast(IntegerType()))"
   ]
  },
  {
   "cell_type": "code",
   "execution_count": 1426,
   "metadata": {},
   "outputs": [],
   "source": [
    "df_reviews = df_reviews.withColumnRenamed(\"app_id\",\"id\")\n",
    "df_leak = df_leak.withColumnRenamed(\"Steam App ID\", \"id\")"
   ]
  },
  {
   "cell_type": "code",
   "execution_count": 1427,
   "metadata": {},
   "outputs": [
    {
     "name": "stdout",
     "output_type": "stream",
     "text": [
      "root\n",
      " |-- id: integer (nullable = true)\n",
      " |-- review_score: integer (nullable = true)\n",
      " |-- total_positive: integer (nullable = true)\n",
      " |-- total_negative: integer (nullable = true)\n",
      " |-- total_reviews: integer (nullable = true)\n",
      "\n"
     ]
    }
   ],
   "source": [
    "df_reviews.printSchema()"
   ]
  },
  {
   "cell_type": "code",
   "execution_count": 1428,
   "metadata": {},
   "outputs": [
    {
     "name": "stdout",
     "output_type": "stream",
     "text": [
      "root\n",
      " |-- Players: integer (nullable = true)\n",
      " |-- id: integer (nullable = true)\n",
      "\n"
     ]
    }
   ],
   "source": [
    "df_leak.printSchema()"
   ]
  },
  {
   "cell_type": "code",
   "execution_count": 1429,
   "metadata": {},
   "outputs": [
    {
     "name": "stdout",
     "output_type": "stream",
     "text": [
      "root\n",
      " |-- id: integer (nullable = true)\n",
      " |-- year: integer (nullable = true)\n",
      "\n"
     ]
    }
   ],
   "source": [
    "df_time.printSchema()"
   ]
  },
  {
   "cell_type": "markdown",
   "metadata": {},
   "source": [
    "# Handle missing values"
   ]
  },
  {
   "cell_type": "code",
   "execution_count": 1430,
   "metadata": {},
   "outputs": [
    {
     "data": {
      "text/plain": [
       "(12408, 2)"
      ]
     },
     "execution_count": 1430,
     "metadata": {},
     "output_type": "execute_result"
    }
   ],
   "source": [
    "# Before\n",
    "df_time.shape()"
   ]
  },
  {
   "cell_type": "code",
   "execution_count": 1431,
   "metadata": {},
   "outputs": [],
   "source": [
    "df_time = df_time.na.drop()"
   ]
  },
  {
   "cell_type": "code",
   "execution_count": 1432,
   "metadata": {},
   "outputs": [
    {
     "data": {
      "text/plain": [
       "(12381, 2)"
      ]
     },
     "execution_count": 1432,
     "metadata": {},
     "output_type": "execute_result"
    }
   ],
   "source": [
    "# After\n",
    "df_time.shape()"
   ]
  },
  {
   "cell_type": "code",
   "execution_count": 1433,
   "metadata": {},
   "outputs": [
    {
     "data": {
      "text/plain": [
       "(13275, 5)"
      ]
     },
     "execution_count": 1433,
     "metadata": {},
     "output_type": "execute_result"
    }
   ],
   "source": [
    "#Before\n",
    "df_reviews.shape()"
   ]
  },
  {
   "cell_type": "code",
   "execution_count": 1434,
   "metadata": {},
   "outputs": [],
   "source": [
    "df_reviews = df_reviews.filter((df_reviews[\"total_reviews\"] != 0) & \\\n",
    "                               (df_reviews[\"total_positive\"] != 0) & \\\n",
    "                               (df_reviews[\"total_negative\"] != 0) & \\\n",
    "                               (df_reviews[\"review_score\"] != 0) \\\n",
    "                               ).select(df_reviews.columns)"
   ]
  },
  {
   "cell_type": "code",
   "execution_count": 1435,
   "metadata": {},
   "outputs": [
    {
     "data": {
      "text/plain": [
       "(9974, 5)"
      ]
     },
     "execution_count": 1435,
     "metadata": {},
     "output_type": "execute_result"
    }
   ],
   "source": [
    "df_reviews.shape()"
   ]
  },
  {
   "cell_type": "markdown",
   "metadata": {},
   "source": [
    "# Join three frames into one General"
   ]
  },
  {
   "cell_type": "code",
   "execution_count": 1436,
   "metadata": {},
   "outputs": [],
   "source": [
    "df_general = df_time.join(df_reviews, [\"id\"]) \\\n",
    "                    .join(df_leak, [\"id\"])"
   ]
  },
  {
   "cell_type": "code",
   "execution_count": 1437,
   "metadata": {},
   "outputs": [
    {
     "data": {
      "text/plain": [
       "(9370, 7)"
      ]
     },
     "execution_count": 1437,
     "metadata": {},
     "output_type": "execute_result"
    }
   ],
   "source": [
    "df_general.shape()"
   ]
  },
  {
   "cell_type": "code",
   "execution_count": 1438,
   "metadata": {},
   "outputs": [
    {
     "name": "stdout",
     "output_type": "stream",
     "text": [
      "+----+----+------------+--------------+--------------+-------------+--------+\n",
      "|  id|year|review_score|total_positive|total_negative|total_reviews| Players|\n",
      "+----+----+------------+--------------+--------------+-------------+--------+\n",
      "| 220|2004|           9|         54855|          1761|        56616| 8877286|\n",
      "| 240|2004|           9|         65877|          2798|        68675|15001876|\n",
      "| 240|2004|           9|         65877|          2798|        68675|15001876|\n",
      "| 300|2010|           8|          9014|           937|         9951| 4419447|\n",
      "| 380|2006|           8|          6168|           352|         6520| 3917529|\n",
      "| 400|2007|           9|         43124|           794|        43918| 9971481|\n",
      "| 420|2007|           9|         11237|           495|        11732| 3281382|\n",
      "| 440|2007|           8|        446494|         28380|       474874|50191347|\n",
      "| 440|2007|           8|        446494|         28380|       474874|50191347|\n",
      "| 500|2008|           9|         14637|           731|        15368| 4604963|\n",
      "| 550|2009|           9|        210383|          6339|       216722|23143723|\n",
      "| 550|2009|           9|        210383|          6339|       216722|23143723|\n",
      "| 620|2011|           9|        113776|          1338|       115114|13062700|\n",
      "| 630|2010|           9|         16119|           777|        16896| 6667813|\n",
      "| 730|2012|           8|       2160849|        277888|      2438737|46305966|\n",
      "| 730|2012|           8|       2160849|        277888|      2438737|46305966|\n",
      "|1200|2006|           8|          1335|           176|         1511|  849053|\n",
      "|1250|2009|           9|         49902|          2286|        52188| 7395545|\n",
      "|1520|2006|           8|          1875|           304|         2179|  708655|\n",
      "|1530|2008|           8|           337|            65|          402|  180479|\n",
      "+----+----+------------+--------------+--------------+-------------+--------+\n",
      "only showing top 20 rows\n",
      "\n"
     ]
    }
   ],
   "source": [
    "df_general.show()"
   ]
  },
  {
   "cell_type": "code",
   "execution_count": 1439,
   "metadata": {},
   "outputs": [],
   "source": [
    "# df_general.write.csv(\"df_general.csv\",header=True)"
   ]
  },
  {
   "cell_type": "markdown",
   "metadata": {},
   "source": [
    "# Groupby year, count each year number, split"
   ]
  },
  {
   "cell_type": "code",
   "execution_count": 1440,
   "metadata": {},
   "outputs": [
    {
     "name": "stdout",
     "output_type": "stream",
     "text": [
      "+----+-----+\n",
      "|Year|count|\n",
      "+----+-----+\n",
      "|1997|    1|\n",
      "|2004|    3|\n",
      "|2006|    6|\n",
      "|2007|    6|\n",
      "|2008|   30|\n",
      "|2009|   49|\n",
      "|2010|  104|\n",
      "|2011|  135|\n",
      "|2012|  208|\n",
      "|2013|  312|\n",
      "|2014|  893|\n",
      "|2015| 1555|\n",
      "|2016| 2263|\n",
      "|2017| 2476|\n",
      "|2018| 1141|\n",
      "|2019|   87|\n",
      "|2020|   55|\n",
      "|2021|   25|\n",
      "|2022|   21|\n",
      "+----+-----+\n",
      "\n"
     ]
    }
   ],
   "source": [
    "df_general.groupBy(\"Year\").count().sort(\"year\").show()"
   ]
  },
  {
   "cell_type": "code",
   "execution_count": 1441,
   "metadata": {},
   "outputs": [],
   "source": [
    "y2013 = df_general.filter(\"year <= 2013\").select(df_general.columns)  #includes years no more than 2013\n",
    "y2014 = df_general.filter(\"year == 2014\").select(df_general.columns)\n",
    "y2015 = df_general.filter(\"year == 2015\").select(df_general.columns)\n",
    "y2016 = df_general.filter(\"year == 2016\").select(df_general.columns)\n",
    "y2017 = df_general.filter(\"year == 2017\").select(df_general.columns)\n",
    "y2018 = df_general.filter(\"year == 2018\").select(df_general.columns)\n",
    "y2019 = df_general.filter(\"year >= 2019\").select(df_general.columns) # includes years older than 2019"
   ]
  },
  {
   "cell_type": "markdown",
   "metadata": {},
   "source": [
    "# Boxplot and Describe to filter outliers"
   ]
  },
  {
   "cell_type": "markdown",
   "metadata": {},
   "source": [
    "## 2013"
   ]
  },
  {
   "cell_type": "code",
   "execution_count": 1442,
   "metadata": {},
   "outputs": [
    {
     "data": {
      "image/png": "[encoded data removed]",
      "text/plain": [
       "<Figure size 640x480 with 1 Axes>"
      ]
     },
     "metadata": {},
     "output_type": "display_data"
    }
   ],
   "source": [
    "y2013.toPandas().plot.box();"
   ]
  },
  {
   "cell_type": "code",
   "execution_count": 1443,
   "metadata": {},
   "outputs": [
    {
     "name": "stdout",
     "output_type": "stream",
     "text": [
      "+-------+-----------------+------------------+------------------+------------------+------------------+------------------+------------------+\n",
      "|summary|               id|              year|      review_score|    total_positive|    total_negative|     total_reviews|           Players|\n",
      "+-------+-----------------+------------------+------------------+------------------+------------------+------------------+------------------+\n",
      "|  count|              854|               854|               854|               854|               854|               854|               854|\n",
      "|   mean|149080.3161592506|2011.5281030444964| 6.913348946135831|13468.991803278688|1454.9309133489462|14923.922716627634|         1134183.5|\n",
      "| stddev| 92067.8455250179|1.6692605740064466|1.4954357373572178|109852.84337430519|13758.579972057702|123382.35688446091|4083629.7157909987|\n",
      "|    min|              220|              1997|                 1|                 1|                 1|                11|              1938|\n",
      "|    max|           267060|              2013|                 9|           2160849|            277888|           2438737|          50191347|\n",
      "+-------+-----------------+------------------+------------------+------------------+------------------+------------------+------------------+\n",
      "\n"
     ]
    }
   ],
   "source": [
    "y2013.describe().show()"
   ]
  },
  {
   "cell_type": "code",
   "execution_count": 1444,
   "metadata": {},
   "outputs": [],
   "source": [
    "y2013 = y2013.filter((y2013[\"Players\"] <= 10000000))"
   ]
  },
  {
   "cell_type": "code",
   "execution_count": 1445,
   "metadata": {},
   "outputs": [
    {
     "data": {
      "text/plain": [
       "(835, 7)"
      ]
     },
     "execution_count": 1445,
     "metadata": {},
     "output_type": "execute_result"
    }
   ],
   "source": [
    "y2013.shape()"
   ]
  },
  {
   "cell_type": "markdown",
   "metadata": {},
   "source": [
    "## 2014"
   ]
  },
  {
   "cell_type": "code",
   "execution_count": 1446,
   "metadata": {},
   "outputs": [
    {
     "name": "stdout",
     "output_type": "stream",
     "text": [
      "+-------+------------------+------+------------------+-----------------+------------------+-----------------+------------------+\n",
      "|summary|                id|  year|      review_score|   total_positive|    total_negative|    total_reviews|           Players|\n",
      "+-------+------------------+------+------------------+-----------------+------------------+-----------------+------------------+\n",
      "|  count|               893|   893|               893|              893|               893|              893|               893|\n",
      "|   mean|  283194.882418813|2014.0| 6.399776035834266| 1818.01679731243|349.24860022396416|2167.265397536394|211513.78723404257|\n",
      "| stddev|33858.786913405296|   0.0|1.5359226040878313|5657.770841744972|1017.3670321171992|6311.847671049619| 590873.4634842963|\n",
      "|    min|              9940|  2014|                 2|                2|                 1|               13|               563|\n",
      "|    max|            339510|  2014|                 9|            74283|             13312|            81312|           6656284|\n",
      "+-------+------------------+------+------------------+-----------------+------------------+-----------------+------------------+\n",
      "\n"
     ]
    },
    {
     "data": {
      "image/png": "[encoded data removed]",
      "text/plain": [
       "<Figure size 640x480 with 1 Axes>"
      ]
     },
     "metadata": {},
     "output_type": "display_data"
    }
   ],
   "source": [
    "y2014.toPandas().plot.box();\n",
    "y2014.describe().show()"
   ]
  },
  {
   "cell_type": "code",
   "execution_count": 1447,
   "metadata": {},
   "outputs": [
    {
     "data": {
      "text/plain": [
       "(849, 7)"
      ]
     },
     "execution_count": 1447,
     "metadata": {},
     "output_type": "execute_result"
    }
   ],
   "source": [
    "y2014 = y2014.filter((y2014[\"Players\"] <= 1000000))\n",
    "y2014.shape()"
   ]
  },
  {
   "cell_type": "markdown",
   "metadata": {},
   "source": [
    "## 2015"
   ]
  },
  {
   "cell_type": "code",
   "execution_count": 1448,
   "metadata": {},
   "outputs": [
    {
     "name": "stdout",
     "output_type": "stream",
     "text": [
      "+-------+-----------------+------+------------------+------------------+------------------+------------------+------------------+\n",
      "|summary|               id|  year|      review_score|    total_positive|    total_negative|     total_reviews|           Players|\n",
      "+-------+-----------------+------+------------------+------------------+------------------+------------------+------------------+\n",
      "|  count|             1555|  1555|              1555|              1555|              1555|              1555|              1555|\n",
      "|   mean|351745.7189710611|2015.0| 6.400643086816721|1620.9581993569132| 360.1710610932476|1981.1292604501607|154882.17491961416|\n",
      "| stddev|42991.70863785752|   0.0|1.4117997306105818|10449.208997061665|3185.8059205253953|13102.498416664648| 676385.6108747692|\n",
      "|    min|           200150|  2015|                 2|                 1|                 1|                10|                83|\n",
      "|    max|           691630|  2015|                 9|            254544|            108090|            362634|          12604123|\n",
      "+-------+-----------------+------+------------------+------------------+------------------+------------------+------------------+\n",
      "\n"
     ]
    },
    {
     "data": {
      "image/png": "[encoded data removed]",
      "text/plain": [
       "<Figure size 640x480 with 1 Axes>"
      ]
     },
     "metadata": {},
     "output_type": "display_data"
    }
   ],
   "source": [
    "y2015.toPandas().plot.box();\n",
    "y2015.describe().show()"
   ]
  },
  {
   "cell_type": "code",
   "execution_count": 1449,
   "metadata": {},
   "outputs": [
    {
     "data": {
      "text/plain": [
       "(1538, 7)"
      ]
     },
     "execution_count": 1449,
     "metadata": {},
     "output_type": "execute_result"
    }
   ],
   "source": [
    "y2015 = y2015.filter((y2015[\"Players\"] <= 3000000))\n",
    "y2015.shape()"
   ]
  },
  {
   "cell_type": "markdown",
   "metadata": {},
   "source": [
    "## 2016"
   ]
  },
  {
   "cell_type": "code",
   "execution_count": 1450,
   "metadata": {},
   "outputs": [
    {
     "name": "stdout",
     "output_type": "stream",
     "text": [
      "+-------+------------------+------+------------------+-----------------+------------------+------------------+------------------+\n",
      "|summary|                id|  year|      review_score|   total_positive|    total_negative|     total_reviews|           Players|\n",
      "+-------+------------------+------+------------------+-----------------+------------------+------------------+------------------+\n",
      "|  count|              2263|  2263|              2263|             2263|              2263|              2263|              2263|\n",
      "|   mean|447023.09765797615|2016.0| 6.468404772425983|843.3261157755193|183.29650905877153|1026.6226248342907| 83342.98055678303|\n",
      "| stddev|  71476.9255687775|   0.0|1.3458997137404816|4588.994731147149|1280.7962208512251| 5532.605597500122|334688.03913678095|\n",
      "|    min|             40980|  2016|                 1|                2|                 1|                10|                95|\n",
      "|    max|            575010|  2016|                 9|            95679|             41797|            124611|           5757369|\n",
      "+-------+------------------+------+------------------+-----------------+------------------+------------------+------------------+\n",
      "\n"
     ]
    },
    {
     "data": {
      "image/png": "[encoded data removed]",
      "text/plain": [
       "<Figure size 640x480 with 1 Axes>"
      ]
     },
     "metadata": {},
     "output_type": "display_data"
    }
   ],
   "source": [
    "y2016.toPandas().plot.box();\n",
    "y2016.describe().show()"
   ]
  },
  {
   "cell_type": "code",
   "execution_count": 1451,
   "metadata": {},
   "outputs": [
    {
     "data": {
      "text/plain": [
       "(2246, 7)"
      ]
     },
     "execution_count": 1451,
     "metadata": {},
     "output_type": "execute_result"
    }
   ],
   "source": [
    "y2016 = y2016.filter((y2016[\"Players\"] <= 2000000))\n",
    "y2016.shape()"
   ]
  },
  {
   "cell_type": "markdown",
   "metadata": {},
   "source": [
    "## 2017"
   ]
  },
  {
   "cell_type": "code",
   "execution_count": 1452,
   "metadata": {},
   "outputs": [
    {
     "name": "stdout",
     "output_type": "stream",
     "text": [
      "+-------+-----------------+------+------------------+------------------+------------------+------------------+------------------+\n",
      "|summary|               id|  year|      review_score|    total_positive|    total_negative|     total_reviews|           Players|\n",
      "+-------+-----------------+------+------------------+------------------+------------------+------------------+------------------+\n",
      "|  count|             2476|  2476|              2476|              2476|              2476|              2476|              2476|\n",
      "|   mean|588541.8982229403|2017.0| 6.453957996768982| 1096.760096930533| 464.7794830371567|1561.5395799676899|112301.23909531502|\n",
      "| stddev|107931.5792188646|   0.0|1.2992229552805579|13758.671589939098|10668.693723824226|23621.294013657352| 1350100.220223516|\n",
      "|    min|           227860|  2017|                 2|                 1|                 1|                10|                54|\n",
      "|    max|           770400|  2017|                 9|            394617|            372037|            766654|          36604134|\n",
      "+-------+-----------------+------+------------------+------------------+------------------+------------------+------------------+\n",
      "\n"
     ]
    },
    {
     "data": {
      "image/png": "[encoded data removed]",
      "text/plain": [
       "<Figure size 640x480 with 1 Axes>"
      ]
     },
     "metadata": {},
     "output_type": "display_data"
    }
   ],
   "source": [
    "y2017.toPandas().plot.box();\n",
    "y2017.describe().show()"
   ]
  },
  {
   "cell_type": "code",
   "execution_count": 1453,
   "metadata": {},
   "outputs": [
    {
     "data": {
      "text/plain": [
       "(2469, 7)"
      ]
     },
     "execution_count": 1453,
     "metadata": {},
     "output_type": "execute_result"
    }
   ],
   "source": [
    "y2017 = y2017.filter((y2017[\"Players\"] <= 5000000))\n",
    "y2017.shape()"
   ]
  },
  {
   "cell_type": "markdown",
   "metadata": {},
   "source": [
    "## 2018"
   ]
  },
  {
   "cell_type": "code",
   "execution_count": 1454,
   "metadata": {},
   "outputs": [
    {
     "name": "stdout",
     "output_type": "stream",
     "text": [
      "+-------+------------------+------+-----------------+-----------------+------------------+------------------+-----------------+\n",
      "|summary|                id|  year|     review_score|   total_positive|    total_negative|     total_reviews|          Players|\n",
      "+-------+------------------+------+-----------------+-----------------+------------------+------------------+-----------------+\n",
      "|  count|              1141|  1141|             1141|             1141|              1141|              1141|             1141|\n",
      "|   mean|  687489.736196319|2018.0|6.530236634531113|862.7563540753724|170.24014022787028|1032.9964943032428|70571.21647677476|\n",
      "| stddev|142764.83949614232|   0.0|1.245415042532211|8516.604276058062|1628.2467344499723|10068.593485894551|708332.2364926941|\n",
      "|    min|            206500|  2018|                3|                2|                 1|                10|               34|\n",
      "|    max|            882560|  2018|                9|           180850|             40762|            221612|         14371946|\n",
      "+-------+------------------+------+-----------------+-----------------+------------------+------------------+-----------------+\n",
      "\n"
     ]
    },
    {
     "data": {
      "image/png": "[encoded data removed]",
      "text/plain": [
       "<Figure size 640x480 with 1 Axes>"
      ]
     },
     "metadata": {},
     "output_type": "display_data"
    }
   ],
   "source": [
    "y2018.toPandas().plot.box();\n",
    "y2018.describe().show()"
   ]
  },
  {
   "cell_type": "code",
   "execution_count": 1455,
   "metadata": {},
   "outputs": [
    {
     "data": {
      "text/plain": [
       "(1135, 7)"
      ]
     },
     "execution_count": 1455,
     "metadata": {},
     "output_type": "execute_result"
    }
   ],
   "source": [
    "y2018 = y2018.filter((y2018[\"Players\"] <= 2000000))\n",
    "y2018.shape()"
   ]
  },
  {
   "cell_type": "markdown",
   "metadata": {},
   "source": [
    "## 2019"
   ]
  },
  {
   "cell_type": "code",
   "execution_count": 1456,
   "metadata": {},
   "outputs": [
    {
     "name": "stdout",
     "output_type": "stream",
     "text": [
      "+-------+------------------+------------------+------------------+------------------+------------------+-----------------+------------------+\n",
      "|summary|                id|              year|      review_score|    total_positive|    total_negative|    total_reviews|           Players|\n",
      "+-------+------------------+------------------+------------------+------------------+------------------+-----------------+------------------+\n",
      "|  count|               188|               188|               188|               188|               188|              188|               188|\n",
      "|   mean| 542162.2872340425|2019.8936170212767| 6.781914893617022|1722.5212765957447| 383.6595744680851| 2106.18085106383|179712.50531914894|\n",
      "| stddev|154367.52137058767|1.0182094497493963|1.3285400910273033|  5501.76024088727|1285.5969175028647|6412.073678211948| 581939.6253235523|\n",
      "|    min|            227780|              2019|                 4|                 5|                 1|               11|               122|\n",
      "|    max|            872680|              2022|                 9|             52959|             11890|            60380|           5223468|\n",
      "+-------+------------------+------------------+------------------+------------------+------------------+-----------------+------------------+\n",
      "\n"
     ]
    },
    {
     "data": {
      "image/png": "[encoded data removed]",
      "text/plain": [
       "<Figure size 640x480 with 1 Axes>"
      ]
     },
     "metadata": {},
     "output_type": "display_data"
    }
   ],
   "source": [
    "y2019.toPandas().plot.box();\n",
    "y2019.describe().show()"
   ]
  },
  {
   "cell_type": "code",
   "execution_count": 1457,
   "metadata": {},
   "outputs": [
    {
     "data": {
      "text/plain": [
       "(178, 7)"
      ]
     },
     "execution_count": 1457,
     "metadata": {},
     "output_type": "execute_result"
    }
   ],
   "source": [
    "y2019 = y2019.filter((y2019[\"Players\"] <= 1000000))\n",
    "y2019.shape()"
   ]
  },
  {
   "cell_type": "code",
   "execution_count": 1458,
   "metadata": {},
   "outputs": [],
   "source": [
    "year_group = [y2013,y2014,y2015,y2016,y2017,y2018,y2019]\n",
    "year_strings = [f\"year 201{i}\" for i in range(3,10)]"
   ]
  },
  {
   "cell_type": "code",
   "execution_count": 1459,
   "metadata": {},
   "outputs": [],
   "source": [
    "# [year_group[i].write.csv(f\"{year_strings[i]}.csv\",header=True) for i in range(7)]"
   ]
  },
  {
   "cell_type": "markdown",
   "metadata": {},
   "source": [
    "# Regression based on different years "
   ]
  },
  {
   "cell_type": "markdown",
   "metadata": {},
   "source": [
    "## Linear Regression: Single Variable, take 2018 as example"
   ]
  },
  {
   "cell_type": "code",
   "execution_count": 1460,
   "metadata": {},
   "outputs": [],
   "source": [
    "linear_featureassebler = VectorAssembler(inputCols=[\"total_reviews\"],outputCol=\"Features\")"
   ]
  },
  {
   "cell_type": "code",
   "execution_count": 1461,
   "metadata": {},
   "outputs": [],
   "source": [
    "output2018 = linear_featureassebler.transform(y2018)"
   ]
  },
  {
   "cell_type": "code",
   "execution_count": 1462,
   "metadata": {},
   "outputs": [],
   "source": [
    "final2018 = output2018.select(\"Features\", \"Players\")"
   ]
  },
  {
   "cell_type": "code",
   "execution_count": 1463,
   "metadata": {},
   "outputs": [
    {
     "name": "stdout",
     "output_type": "stream",
     "text": [
      "+---------+-------+\n",
      "| Features|Players|\n",
      "+---------+-------+\n",
      "| [7997.0]|1823483|\n",
      "| [3288.0]| 169523|\n",
      "| [1869.0]| 126220|\n",
      "|  [330.0]|  20480|\n",
      "|   [94.0]|   2262|\n",
      "|   [89.0]|   5953|\n",
      "| [3964.0]| 489971|\n",
      "|   [35.0]|   1515|\n",
      "|  [445.0]|  17993|\n",
      "| [4384.0]| 295630|\n",
      "|  [281.0]|  14040|\n",
      "|[21629.0]|1123426|\n",
      "|  [202.0]|   9691|\n",
      "| [5324.0]| 436655|\n",
      "|  [484.0]|  29603|\n",
      "|   [31.0]|   1397|\n",
      "|   [16.0]|    465|\n",
      "| [2408.0]| 166057|\n",
      "| [1758.0]| 103699|\n",
      "| [2654.0]| 146235|\n",
      "+---------+-------+\n",
      "only showing top 20 rows\n",
      "\n"
     ]
    }
   ],
   "source": [
    "final2018.show()"
   ]
  },
  {
   "cell_type": "markdown",
   "metadata": {},
   "source": [
    "### train test split"
   ]
  },
  {
   "cell_type": "code",
   "execution_count": 1464,
   "metadata": {},
   "outputs": [],
   "source": [
    "train, test = final2018.randomSplit([0.75,0.25],seed=\"964\")"
   ]
  },
  {
   "cell_type": "markdown",
   "metadata": {},
   "source": [
    "### set and fit regressor"
   ]
  },
  {
   "cell_type": "code",
   "execution_count": 1465,
   "metadata": {},
   "outputs": [],
   "source": [
    "regressor = LinearRegression(featuresCol=\"Features\", labelCol=\"Players\")\n",
    "regressor = regressor.fit(train)"
   ]
  },
  {
   "cell_type": "markdown",
   "metadata": {},
   "source": [
    "### Coefficients and intercept"
   ]
  },
  {
   "cell_type": "code",
   "execution_count": 1466,
   "metadata": {},
   "outputs": [
    {
     "data": {
      "text/plain": [
       "DenseVector([54.904])"
      ]
     },
     "execution_count": 1466,
     "metadata": {},
     "output_type": "execute_result"
    }
   ],
   "source": [
    "regressor.coefficients"
   ]
  },
  {
   "cell_type": "code",
   "execution_count": 1467,
   "metadata": {},
   "outputs": [
    {
     "data": {
      "text/plain": [
       "4496.446033325678"
      ]
     },
     "execution_count": 1467,
     "metadata": {},
     "output_type": "execute_result"
    }
   ],
   "source": [
    "regressor.intercept"
   ]
  },
  {
   "cell_type": "markdown",
   "metadata": {},
   "source": [
    "### Prediction"
   ]
  },
  {
   "cell_type": "code",
   "execution_count": 1468,
   "metadata": {},
   "outputs": [],
   "source": [
    "pred_result = regressor.evaluate(test)"
   ]
  },
  {
   "cell_type": "code",
   "execution_count": 1469,
   "metadata": {},
   "outputs": [
    {
     "name": "stdout",
     "output_type": "stream",
     "text": [
      "+---------+-------+------------------+\n",
      "| Features|Players|        prediction|\n",
      "+---------+-------+------------------+\n",
      "|[12595.0]| 679334| 696012.3561504263|\n",
      "| [2049.0]| 420843|116994.74693288417|\n",
      "| [1192.0]| 257046| 69942.01688363009|\n",
      "| [1115.0]| 238249| 65714.40869950807|\n",
      "|   [80.0]| 152900| 8888.766224621275|\n",
      "|  [677.0]| 144867|41666.455652164674|\n",
      "| [1282.0]| 101445| 74883.37709883762|\n",
      "| [1668.0]|  99719| 96076.32202183889|\n",
      "|  [832.0]|  95199|  50176.5760227999|\n",
      "| [2308.0]|  93498|131214.88355220368|\n",
      "|  [528.0]|  76904|33485.759295876625|\n",
      "|  [452.0]|  76897|29313.055114145805|\n",
      "|  [428.0]|  75371|27995.359056757126|\n",
      "| [2861.0]|  69416| 161576.7968745345|\n",
      "|   [20.0]|  65550| 5594.526081149577|\n",
      "| [1496.0]|  58680| 86632.83361055335|\n",
      "|  [207.0]|  53571|15861.574528303037|\n",
      "|  [540.0]|  52272| 34144.60732457096|\n",
      "|   [11.0]|  50306| 5100.390059628823|\n",
      "|   [40.0]|  50010| 6692.606128973477|\n",
      "+---------+-------+------------------+\n",
      "only showing top 20 rows\n",
      "\n"
     ]
    }
   ],
   "source": [
    "pred_result.predictions.sort(col(\"Players\").desc()).show()"
   ]
  },
  {
   "cell_type": "code",
   "execution_count": 1470,
   "metadata": {},
   "outputs": [
    {
     "data": {
      "text/plain": [
       "0.72550742453599"
      ]
     },
     "execution_count": 1470,
     "metadata": {},
     "output_type": "execute_result"
    }
   ],
   "source": [
    "pred_result.r2"
   ]
  },
  {
   "cell_type": "markdown",
   "metadata": {},
   "source": [
    "## Linear regression: single variable, all years, same logic"
   ]
  },
  {
   "cell_type": "code",
   "execution_count": 1471,
   "metadata": {},
   "outputs": [
    {
     "name": "stdout",
     "output_type": "stream",
     "text": [
      "Coefficients:\n",
      "[('year 2013', 109.29148716914929), ('year 2014', 72.0848560601924), ('year 2015', 70.92136022928503), ('year 2016', 40.12642375447233), ('year 2017', 73.37328688381068), ('year 2018', 54.90400239119497), ('year 2019', 50.683854904318444)]\n",
      "\n",
      "\n",
      "R2s:\n",
      "[('year 2013', 0.664410961790715), ('year 2014', 0.5942971871791998), ('year 2015', 0.6676766649606283), ('year 2016', 0.6911286926252946), ('year 2017', 0.661477810352908), ('year 2018', 0.72550742453599), ('year 2019', 0.5964575126785103)]\n"
     ]
    }
   ],
   "source": [
    "linear_featureassebler = VectorAssembler(inputCols=[\"total_reviews\"],outputCol=\"Features\")\n",
    "output_years = [linear_featureassebler.transform(year) for year in year_group]\n",
    "final_years = [output.select(\"Features\", \"Players\") for output in output_years]\n",
    "\n",
    "train_groups = []\n",
    "test_groups = []\n",
    "for final_year in final_years:\n",
    "    train,test = final_year.randomSplit([0.75,0.25],seed=\"964\")\n",
    "    train_groups.append(train)\n",
    "    test_groups.append(test)\n",
    "\n",
    "regressor = LinearRegression(featuresCol=\"Features\", labelCol=\"Players\")\n",
    "regressors = [regressor.fit(train) for train in train_groups]\n",
    "coefficients = [regressor.coefficients.values[0] for regressor in regressors]\n",
    "\n",
    "print(\"Coefficients:\")\n",
    "print(list(zip(year_strings, coefficients)))\n",
    "\n",
    "pred_results = [regressors[i].evaluate(test_groups[i]) for i in range(7)]\n",
    "R2s = [pred_result.r2 for pred_result in pred_results]\n",
    "print(\"\\n\")\n",
    "print(\"R2s:\")\n",
    "print(list(zip(year_strings,R2s)))"
   ]
  },
  {
   "cell_type": "markdown",
   "metadata": {},
   "source": [
    "## Multi-variable regression: Linear, Decision Tree, Random Forest (2018)"
   ]
  },
  {
   "cell_type": "code",
   "execution_count": 1472,
   "metadata": {},
   "outputs": [],
   "source": [
    "featureassebler2 = VectorAssembler(inputCols=[\"review_score\",\"total_positive\",\"total_negative\"], outputCol=\"Features\")\n",
    "output2018 = featureassebler2.transform(y2018)\n",
    "final2018 = output2018.select(\"Features\", \"Players\")\n",
    "train, test = final2018.randomSplit([0.75,0.25],seed=\"964\")"
   ]
  },
  {
   "cell_type": "markdown",
   "metadata": {},
   "source": [
    "#### linear"
   ]
  },
  {
   "cell_type": "code",
   "execution_count": 1473,
   "metadata": {},
   "outputs": [
    {
     "name": "stdout",
     "output_type": "stream",
     "text": [
      "+--------------------+-------+------------------+\n",
      "|            Features|Players|        prediction|\n",
      "+--------------------+-------+------------------+\n",
      "|[6.0,15438.0,6596.0]|1140205|1333492.6146236747|\n",
      "|[6.0,19839.0,5990.0]| 827988|1618923.7399582854|\n",
      "|  [5.0,1260.0,789.0]| 455442|120794.21639786272|\n",
      "| [5.0,5162.0,2702.0]| 348944|466548.35534133605|\n",
      "| [4.0,1515.0,2692.0]| 248224|210980.48047253853|\n",
      "| [5.0,2258.0,1570.0]| 224856| 220261.2082245579|\n",
      "|  [6.0,2680.0,759.0]| 191656|218815.29245863095|\n",
      "|     [5.0,49.0,31.0]| 187222| 7273.489101882218|\n",
      "|  [6.0,2618.0,907.0]| 162765|220069.62852307028|\n",
      "|  [6.0,1041.0,277.0]| 119509| 85747.08447030945|\n",
      "|  [5.0,1327.0,710.0]| 118244|122500.23884134249|\n",
      "|  [8.0,1441.0,157.0]| 113593|108562.15826591305|\n",
      "|  [8.0,1211.0,186.0]| 110374| 93544.28522080905|\n",
      "|   [5.0,929.0,829.0]| 103699| 99115.91729509592|\n",
      "|   [4.0,156.0,272.0]|  75371|24222.382181557456|\n",
      "|   [8.0,789.0,128.0]|  73841| 61783.10544810767|\n",
      "|      [4.0,5.0,15.0]|  65550| 3921.198684632332|\n",
      "|   [5.0,316.0,182.0]|  62165|31692.539234117336|\n",
      "|    [8.0,487.0,53.0]|  52272| 37786.61839247714|\n",
      "|   [5.0,821.0,766.0]|  50554| 89165.87061701552|\n",
      "+--------------------+-------+------------------+\n",
      "only showing top 20 rows\n",
      "\n"
     ]
    },
    {
     "data": {
      "text/plain": [
       "(0.6611116025433404, 0.6577562718754527)"
      ]
     },
     "execution_count": 1473,
     "metadata": {},
     "output_type": "execute_result"
    }
   ],
   "source": [
    "regressor = LinearRegression(featuresCol=\"Features\", labelCol=\"Players\")\n",
    "regressor = regressor.fit(train)\n",
    "pred_result = regressor.evaluate(test)\n",
    "pred_result.predictions.sort(col(\"Players\").desc()).show()\n",
    "pred_result.r2, pred_result.r2adj"
   ]
  },
  {
   "cell_type": "markdown",
   "metadata": {},
   "source": [
    "#### Decision Tree"
   ]
  },
  {
   "cell_type": "code",
   "execution_count": 1474,
   "metadata": {},
   "outputs": [
    {
     "name": "stdout",
     "output_type": "stream",
     "text": [
      "R2 on test data = 0.606234\n"
     ]
    }
   ],
   "source": [
    "regressor = DecisionTreeRegressor(featuresCol=\"Features\", labelCol=\"Players\")\n",
    "model = regressor.fit(train)\n",
    "predictions = model.transform(test)\n",
    "evaluator = RegressionEvaluator(\n",
    "    labelCol=\"Players\", predictionCol=\"prediction\", metricName=\"r2\")\n",
    "r2 = evaluator.evaluate(predictions)\n",
    "print(\"R2 on test data = %g\" % r2)"
   ]
  },
  {
   "cell_type": "markdown",
   "metadata": {},
   "source": [
    "### Random Forest"
   ]
  },
  {
   "cell_type": "code",
   "execution_count": 1475,
   "metadata": {},
   "outputs": [
    {
     "name": "stdout",
     "output_type": "stream",
     "text": [
      "R2 on test data = 0.608469\n"
     ]
    }
   ],
   "source": [
    "regressor = RandomForestRegressor(featuresCol=\"Features\", labelCol=\"Players\")\n",
    "model = regressor.fit(train)\n",
    "predictions = model.transform(test)\n",
    "evaluator = RegressionEvaluator(\n",
    "    labelCol=\"Players\", predictionCol=\"prediction\", metricName=\"r2\")\n",
    "r2 = evaluator.evaluate(predictions)\n",
    "print(\"R2 on test data = %g\" % r2)"
   ]
  },
  {
   "cell_type": "markdown",
   "metadata": {},
   "source": [
    "## Multi-variable regression: all years"
   ]
  },
  {
   "cell_type": "code",
   "execution_count": 1476,
   "metadata": {},
   "outputs": [],
   "source": [
    "featureassebler2 = VectorAssembler(inputCols=[\"review_score\",\"total_positive\",\"total_negative\"], outputCol=\"Features\")\n",
    "output_years = [featureassebler2.transform(year) for year in year_group]\n",
    "final_years = [output.select(\"Features\", \"Players\") for output in output_years]\n",
    "\n",
    "train_groups = []\n",
    "test_groups = []\n",
    "for final_year in final_years:\n",
    "    train,test = final_year.randomSplit([0.75,0.25],seed=\"964\")\n",
    "    train_groups.append(train)\n",
    "    test_groups.append(test)"
   ]
  },
  {
   "cell_type": "markdown",
   "metadata": {},
   "source": [
    "### Linear"
   ]
  },
  {
   "cell_type": "code",
   "execution_count": 1477,
   "metadata": {},
   "outputs": [
    {
     "name": "stdout",
     "output_type": "stream",
     "text": [
      "Coefficients:\n",
      "[('year 2013', 15745.788939362661), ('year 2014', 6165.100724077476), ('year 2015', -1056.7047692684002), ('year 2016', -9778.058677165163), ('year 2017', 45.69440254808987), ('year 2018', -335.7751142252602), ('year 2019', -1950.5694357062514)]\n",
      "\n",
      "\n",
      "R2s:\n",
      "[('year 2013', 0.49050409631579917), ('year 2014', 0.682751380452213), ('year 2015', 0.6342010240608202), ('year 2016', 0.5762976284657665), ('year 2017', 0.6562504141956333), ('year 2018', 0.6611116025433404), ('year 2019', 0.5194780969501094)]\n",
      "\n",
      "\n",
      "Adj_R2s\n",
      "[('year 2013', 0.48388726639782254), ('year 2014', 0.6787013980750072), ('year 2015', 0.6314711809567966), ('year 2016', 0.5741861548534697), ('year 2017', 0.6547066286306437), ('year 2018', 0.6577562718754527), ('year 2019', 0.48813971196859474)]\n"
     ]
    }
   ],
   "source": [
    "regressor = LinearRegression(featuresCol=\"Features\", labelCol=\"Players\")\n",
    "regressors = [regressor.fit(train) for train in train_groups]\n",
    "\n",
    "pred_results = [regressors[i].evaluate(test_groups[i]) for i in range(7)]\n",
    "R2s = [pred_result.r2 for pred_result in pred_results]\n",
    "adj_R2s = [pred_result.r2adj for pred_result in pred_results]\n",
    "\n",
    "coefficients = [regressor.coefficients.values[0] for regressor in regressors]\n",
    "\n",
    "print(\"Coefficients:\")\n",
    "print(list(zip(year_strings, coefficients)))\n",
    "print(\"\\n\")\n",
    "\n",
    "print(\"R2s:\")\n",
    "print(list(zip(year_strings,R2s)))\n",
    "print(\"\\n\")\n",
    "\n",
    "print(\"Adj_R2s\")\n",
    "print(list(zip(year_strings,adj_R2s)))\n"
   ]
  },
  {
   "cell_type": "markdown",
   "metadata": {},
   "source": [
    "### Decision Tree"
   ]
  },
  {
   "cell_type": "code",
   "execution_count": 1478,
   "metadata": {},
   "outputs": [
    {
     "name": "stdout",
     "output_type": "stream",
     "text": [
      "R2s:\n",
      "[('year 2013', 0.7041011631388011), ('year 2014', 0.7474767438867173), ('year 2015', 0.6710705753071112), ('year 2016', 0.6739008037003021), ('year 2017', 0.621182860992976), ('year 2018', 0.6062344616916902), ('year 2019', 0.6151615236376766)]\n",
      "\n",
      "\n"
     ]
    }
   ],
   "source": [
    "regressor = DecisionTreeRegressor(featuresCol=\"Features\", labelCol=\"Players\")\n",
    "models = [regressor.fit(train) for train in train_groups]\n",
    "predictions = [models[i].transform(test_groups[i]) for i in range(7)]\n",
    "\n",
    "evaluator = RegressionEvaluator(\n",
    "    labelCol=\"Players\", predictionCol=\"prediction\", metricName=\"r2\")\n",
    "r2s = [evaluator.evaluate(prediction) for prediction in predictions]\n",
    "\n",
    "print(\"R2s:\")\n",
    "print(list(zip(year_strings,r2s)))\n",
    "print(\"\\n\")"
   ]
  },
  {
   "cell_type": "markdown",
   "metadata": {},
   "source": [
    "### Random Forest"
   ]
  },
  {
   "cell_type": "code",
   "execution_count": 1479,
   "metadata": {},
   "outputs": [
    {
     "name": "stdout",
     "output_type": "stream",
     "text": [
      "R2s:\n",
      "[('year 2013', 0.751201185549208), ('year 2014', 0.7503661883438872), ('year 2015', 0.6990372750161118), ('year 2016', 0.7306308676520047), ('year 2017', 0.6340922644166836), ('year 2018', 0.608469179014659), ('year 2019', 0.597282167909249)]\n",
      "\n",
      "\n"
     ]
    }
   ],
   "source": [
    "regressor = RandomForestRegressor(featuresCol=\"Features\", labelCol=\"Players\")\n",
    "models = [regressor.fit(train) for train in train_groups]\n",
    "predictions = [models[i].transform(test_groups[i]) for i in range(7)]\n",
    "evaluator = RegressionEvaluator(\n",
    "    labelCol=\"Players\", predictionCol=\"prediction\", metricName=\"r2\")\n",
    "r2s = [evaluator.evaluate(prediction) for prediction in predictions]\n",
    "\n",
    "print(\"R2s:\")\n",
    "print(list(zip(year_strings,r2s)))\n",
    "print(\"\\n\")"
   ]
  }
 ],
 "metadata": {
  "kernelspec": {
   "display_name": "Python 3.8.13 ('steam')",
   "language": "python",
   "name": "python3"
  },
  "language_info": {
   "codemirror_mode": {
    "name": "ipython",
    "version": 3
   },
   "file_extension": ".py",
   "mimetype": "text/x-python",
   "name": "python",
   "nbconvert_exporter": "python",
   "pygments_lexer": "ipython3",
   "version": "3.8.13"
  },
  "orig_nbformat": 4,
  "vscode": {
   "interpreter": {
    "hash": "3904e9169d5f8c2953a1dcf1e7978cbeedad4be2a3441923f953ca8fe9057d10"
   }
  }
 },
 "nbformat": 4,
 "nbformat_minor": 2
}
