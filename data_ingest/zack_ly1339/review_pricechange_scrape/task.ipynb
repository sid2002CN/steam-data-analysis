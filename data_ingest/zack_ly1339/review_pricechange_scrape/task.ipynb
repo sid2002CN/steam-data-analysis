{
 "cells": [
  {
   "cell_type": "code",
   "execution_count": 1,
   "metadata": {},
   "outputs": [],
   "source": [
    "import numpy as np\n",
    "import os"
   ]
  },
  {
   "cell_type": "code",
   "execution_count": 2,
   "metadata": {},
   "outputs": [],
   "source": [
    "task_path = \"./input_peel.txt\"\n",
    "with open(task_path, 'r', encoding=\"utf-8\") as f:\n",
    "    input_list = f.read().splitlines()\n",
    "\n",
    "if os.path.exists(\"./finished.txt\"):\n",
    "    with open(\"./finished.txt\", 'r', encoding=\"utf-8\") as f:\n",
    "        finished = f.read().splitlines()\n",
    "    input_list = list(set(input_list) - set(finished))"
   ]
  },
  {
   "cell_type": "code",
   "execution_count": 3,
   "metadata": {},
   "outputs": [],
   "source": [
    "input_list = np.array(input_list)"
   ]
  },
  {
   "cell_type": "code",
   "execution_count": 4,
   "metadata": {},
   "outputs": [
    {
     "data": {
      "text/plain": [
       "112.33333333333333"
      ]
     },
     "execution_count": 4,
     "metadata": {},
     "output_type": "execute_result"
    }
   ],
   "source": [
    "input_list.size / 3"
   ]
  },
  {
   "cell_type": "code",
   "execution_count": 5,
   "metadata": {},
   "outputs": [],
   "source": [
    "tasks = np.array_split(input_list, 3)"
   ]
  },
  {
   "cell_type": "code",
   "execution_count": 6,
   "metadata": {},
   "outputs": [],
   "source": [
    "name = [\"input_zack.txt\", \"input_sid.txt\", \"input_cindy.txt\"]\n",
    "for path, ids in zip(name, tasks):\n",
    "    np.savetxt(path, ids, fmt='%s')"
   ]
  }
 ],
 "metadata": {
  "kernelspec": {
   "display_name": "Python 3.8.13 ('steam')",
   "language": "python",
   "name": "python3"
  },
  "language_info": {
   "codemirror_mode": {
    "name": "ipython",
    "version": 3
   },
   "file_extension": ".py",
   "mimetype": "text/x-python",
   "name": "python",
   "nbconvert_exporter": "python",
   "pygments_lexer": "ipython3",
   "version": "3.8.13"
  },
  "orig_nbformat": 4,
  "vscode": {
   "interpreter": {
    "hash": "458dc80a6ad14cef196de2775b7390cc1d8564fbf55b15b1a029da866268c4a0"
   }
  }
 },
 "nbformat": 4,
 "nbformat_minor": 2
}
